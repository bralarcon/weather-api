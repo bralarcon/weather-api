{
 "cells": [
  {
   "cell_type": "code",
   "execution_count": 81,
   "metadata": {},
   "outputs": [],
   "source": [
    "#Dependencies\n",
    "from citipy import citipy\n",
    "import random\n",
    "import pandas as pd\n",
    "import numpy as np\n",
    "import matplotlib.pyplot as plt\n",
    "import requests\n",
    "import json"
   ]
  },
  {
   "cell_type": "code",
   "execution_count": 82,
   "metadata": {},
   "outputs": [],
   "source": [
    "api_key ='e80b948b744b583baae870250194a510'"
   ]
  },
  {
   "cell_type": "code",
   "execution_count": 83,
   "metadata": {},
   "outputs": [],
   "source": [
    "randCity = []\n",
    "randCountry = []\n",
    "loopcnt = 0\n",
    "\n",
    "#find cities\n",
    "while len(randCity) < 600 :\n",
    "    # Loop counter to track number of loops made\n",
    "    loopcnt +=1\n",
    "    \n",
    "    # Random lat\n",
    "    lat_pos = random.randint(0,2)\n",
    "    base_lat = random.randint(0,91)\n",
    "    dec_lat = random.random()/100\n",
    "    lat = base_lat + dec_lat\n",
    "    if lat_pos == 1:\n",
    "        lat = lat * -1\n",
    "    \n",
    "    \n",
    "    # Random lon\n",
    "    lng_pos = random.randint(0,2)\n",
    "    base_lng = random.randint(0,181)\n",
    "    dec_lng = random.random()/100\n",
    "    lng = base_lng + dec_lng\n",
    "    if lng_pos == 1:\n",
    "        lng = lng * -1\n",
    "    #print(f\"The longitude is: {lng}\") \n",
    "    \n",
    "    # Citipy file to get nearest city based on random lat and lng\n",
    "    city = citipy.nearest_city(lat, lng)\n",
    "    \n",
    "    # see if the random city is already in the list if not add\n",
    "    foundCity = False\n",
    "    for x in range(len(randCity)):\n",
    "        if city.city_name == randCity[x]:\n",
    "            foundCity = True\n",
    "    if foundCity==False  :   \n",
    "        randCity.append(city.city_name)\n",
    "        randCountry.append(city.country_code)"
   ]
  },
  {
   "cell_type": "code",
   "execution_count": 84,
   "metadata": {},
   "outputs": [],
   "source": [
    "# api.openweathermap.org/data/2.5/weather?lat=35&lon=139\n",
    "def get_current_weather(df_object):\n",
    "    api_key = 'e80b948b744b583baae870250194a510'\n",
    "    base_url = \"http://api.openweathermap.org/data/2.5/weather\"\n",
    "    params = {'APPID': api_key,\n",
    "              'lat': df_object.lat,\n",
    "              'lon': df_object.lon,\n",
    "              'units': 'Imperial'\n",
    "             }\n",
    "    data =requests.get(base_url, params=params)\n",
    "    return data.json()\n",
    "    time.sleep(.50)\n",
    "    "
   ]
  },
  {
   "cell_type": "code",
   "execution_count": 85,
   "metadata": {},
   "outputs": [],
   "source": [
    "# Build query Url\n",
    "base_url = \"http://api.openweathermap.org/data/2.5/weather?\"\n",
    "api_key = 'e80b948b744b583baae870250194a510'\n",
    "units = \"imperial\"\n",
    "\n",
    "query_url = base_url + \"appid=\" + api_key + \"&units=\" + units + \"&q=\""
   ]
  },
  {
   "cell_type": "code",
   "execution_count": 86,
   "metadata": {},
   "outputs": [
    {
     "name": "stdout",
     "output_type": "stream",
     "text": [
      "http://api.openweathermap.org/data/2.5/weather?appid=e80b948b744b583baae870250194a510&units=imperial&q=Denver\n"
     ]
    }
   ],
   "source": [
    "#test api\n",
    "\n",
    "print(query_url+ 'Denver')"
   ]
  },
  {
   "cell_type": "code",
   "execution_count": null,
   "metadata": {},
   "outputs": [
    {
     "name": "stdout",
     "output_type": "stream",
     "text": [
      "Processing record 1 for the city: amderma\n",
      "     No weather record found for city: amderma\n",
      "Processing record 2 for the city: mocambique\n",
      "     No weather record found for city: mocambique\n",
      "Processing record 3 for the city: belushya guba\n",
      "     No weather record found for city: belushya guba\n",
      "Processing record 4 for the city: cape town\n",
      "     Record found for city: cape town    city id: 3369157\n",
      "Processing record 5 for the city: ushuaia\n",
      "     Record found for city: ushuaia    city id: 3833367\n",
      "Processing record 6 for the city: faanui\n",
      "     Record found for city: faanui    city id: 4034551\n",
      "Processing record 7 for the city: myanaung\n",
      "     Record found for city: myanaung    city id: 1308204\n",
      "Processing record 8 for the city: snezhnogorsk\n",
      "     Record found for city: snezhnogorsk    city id: 795243\n",
      "Processing record 9 for the city: divnogorsk\n",
      "     Record found for city: divnogorsk    city id: 1507379\n",
      "Processing record 10 for the city: xiangfan\n",
      "     No weather record found for city: xiangfan\n",
      "Processing record 11 for the city: cayenne\n",
      "     Record found for city: cayenne    city id: 3382160\n",
      "Processing record 12 for the city: udachnyy\n",
      "     Record found for city: udachnyy    city id: 2014624\n",
      "Processing record 13 for the city: shchuchye\n",
      "     No weather record found for city: shchuchye\n",
      "Processing record 14 for the city: hilo\n",
      "     Record found for city: hilo    city id: 5855927\n",
      "Processing record 15 for the city: souillac\n",
      "     Record found for city: souillac    city id: 3026644\n",
      "Processing record 16 for the city: busselton\n",
      "     Record found for city: busselton    city id: 2075265\n",
      "Processing record 17 for the city: hangu\n",
      "     Record found for city: hangu    city id: 1177203\n",
      "Processing record 18 for the city: burgeo\n",
      "     Record found for city: burgeo    city id: 5911440\n",
      "Processing record 19 for the city: iqaluit\n",
      "     Record found for city: iqaluit    city id: 5983720\n",
      "Processing record 20 for the city: ponta do sol\n",
      "     Record found for city: ponta do sol    city id: 3453439\n",
      "Processing record 21 for the city: norman wells\n",
      "     Record found for city: norman wells    city id: 6089245\n",
      "Processing record 22 for the city: ahipara\n",
      "     Record found for city: ahipara    city id: 2194098\n",
      "Processing record 23 for the city: saldanha\n",
      "     Record found for city: saldanha    city id: 2737599\n",
      "Processing record 24 for the city: lagoa\n",
      "     Record found for city: lagoa    city id: 2267254\n",
      "Processing record 25 for the city: bluff\n",
      "     Record found for city: bluff    city id: 2175403\n",
      "Processing record 26 for the city: labutta\n",
      "     No weather record found for city: labutta\n",
      "Processing record 27 for the city: bambous virieux\n",
      "     Record found for city: bambous virieux    city id: 1106677\n",
      "Processing record 28 for the city: sitka\n",
      "     Record found for city: sitka    city id: 4267710\n",
      "Processing record 29 for the city: butaritari\n",
      "     Record found for city: butaritari    city id: 2110227\n",
      "Processing record 30 for the city: yellowknife\n",
      "     Record found for city: yellowknife    city id: 6185377\n",
      "Processing record 31 for the city: ulundi\n",
      "     Record found for city: ulundi    city id: 946257\n",
      "Processing record 32 for the city: anjad\n",
      "     Record found for city: anjad    city id: 1278588\n",
      "Processing record 33 for the city: dom pedrito\n",
      "     Record found for city: dom pedrito    city id: 3464547\n",
      "Processing record 34 for the city: mys shmidta\n",
      "     No weather record found for city: mys shmidta\n",
      "Processing record 35 for the city: fatezh\n",
      "     Record found for city: fatezh    city id: 563300\n",
      "Processing record 36 for the city: rocha\n",
      "     Record found for city: rocha    city id: 3440777\n",
      "Processing record 37 for the city: constitucion\n",
      "     Record found for city: constitucion    city id: 4011743\n",
      "Processing record 38 for the city: acapulco\n",
      "     Record found for city: acapulco    city id: 3533462\n",
      "Processing record 39 for the city: poso\n",
      "     Record found for city: poso    city id: 1630723\n",
      "Processing record 40 for the city: lasa\n",
      "     Record found for city: lasa    city id: 146639\n",
      "Processing record 41 for the city: saskylakh\n",
      "     Record found for city: saskylakh    city id: 2017155\n",
      "Processing record 42 for the city: necochea\n",
      "     Record found for city: necochea    city id: 3430443\n",
      "Processing record 43 for the city: saint-philippe\n",
      "     Record found for city: saint-philippe    city id: 6138908\n",
      "Processing record 44 for the city: walvis bay\n",
      "     Record found for city: walvis bay    city id: 3359638\n",
      "Processing record 45 for the city: yulara\n",
      "     Record found for city: yulara    city id: 6355222\n",
      "Processing record 46 for the city: ambodifototra\n",
      "     No weather record found for city: ambodifototra\n",
      "Processing record 47 for the city: rikitea\n",
      "     Record found for city: rikitea    city id: 4030556\n",
      "Processing record 48 for the city: miramar\n",
      "     Record found for city: miramar    city id: 3622854\n",
      "Processing record 49 for the city: axim\n",
      "     Record found for city: axim    city id: 2303611\n",
      "Processing record 50 for the city: san patricio\n",
      "     Record found for city: san patricio    city id: 3437029\n",
      "Processing record 51 for the city: longyearbyen\n",
      "     Record found for city: longyearbyen    city id: 2729907\n",
      "Processing record 52 for the city: abha\n",
      "     Record found for city: abha    city id: 110690\n",
      "Processing record 53 for the city: tosya\n",
      "     Record found for city: tosya    city id: 738662\n",
      "Processing record 54 for the city: itoman\n",
      "     Record found for city: itoman    city id: 1861280\n",
      "Processing record 55 for the city: bredasdorp\n",
      "     Record found for city: bredasdorp    city id: 1015776\n",
      "Processing record 56 for the city: aykhal\n",
      "     Record found for city: aykhal    city id: 2027296\n",
      "Processing record 57 for the city: yambio\n",
      "     No weather record found for city: yambio\n",
      "Processing record 58 for the city: ceres\n",
      "     Record found for city: ceres    city id: 3862100\n",
      "Processing record 59 for the city: tumannyy\n",
      "     No weather record found for city: tumannyy\n",
      "Processing record 60 for the city: hobart\n",
      "     Record found for city: hobart    city id: 2163355\n",
      "Processing record 61 for the city: lensk\n",
      "     Record found for city: lensk    city id: 2020838\n",
      "Processing record 62 for the city: dali\n",
      "     Record found for city: dali    city id: 1814093\n",
      "Processing record 63 for the city: acajutla\n",
      "     Record found for city: acajutla    city id: 3587498\n",
      "Processing record 64 for the city: sampit\n",
      "     Record found for city: sampit    city id: 1628884\n",
      "Processing record 65 for the city: hasaki\n",
      "     Record found for city: hasaki    city id: 2112802\n",
      "Processing record 66 for the city: illoqqortoormiut\n",
      "     No weather record found for city: illoqqortoormiut\n",
      "Processing record 67 for the city: raudeberg\n",
      "     Record found for city: raudeberg    city id: 3146487\n",
      "Processing record 68 for the city: talnakh\n",
      "     Record found for city: talnakh    city id: 1490256\n",
      "Processing record 69 for the city: hithadhoo\n",
      "     Record found for city: hithadhoo    city id: 1282256\n",
      "Processing record 70 for the city: atuona\n",
      "     Record found for city: atuona    city id: 4020109\n",
      "Processing record 71 for the city: tuyen quang\n",
      "     Record found for city: tuyen quang    city id: 1563287\n",
      "Processing record 72 for the city: port alfred\n",
      "     Record found for city: port alfred    city id: 964432\n",
      "Processing record 73 for the city: real\n"
     ]
    }
   ],
   "source": [
    "# Loop through the cities and perform request for data on each\n",
    "search_data = []\n",
    "cityList = []\n",
    "countryList = []\n",
    "\n",
    "searchCnt = 0\n",
    "for city in randCity:\n",
    "    searchCnt += 1\n",
    "    print(f\"Processing record {searchCnt} for the city: {city}\")   \n",
    "    response = requests.get(query_url + city).json()\n",
    "    searchCityID = response.get(\"id\")\n",
    "    if response.get(\"id\"):\n",
    "        print(f\"     Record found for city: {city}    city id: {searchCityID}\")\n",
    "        search_data.append(response)\n",
    "        cityList.append(city)\n",
    "        countryList.append(randCountry[searchCnt-1])\n",
    "    else:\n",
    "        print(f\"     No weather record found for city: {city}\")\n",
    "          "
   ]
  },
  {
   "cell_type": "code",
   "execution_count": 73,
   "metadata": {},
   "outputs": [
    {
     "data": {
      "text/plain": [
       "484"
      ]
     },
     "execution_count": 73,
     "metadata": {},
     "output_type": "execute_result"
    }
   ],
   "source": [
    "#print(json.dumps(search_data[2], indent=4))\n",
    "len(search_data)\n"
   ]
  },
  {
   "cell_type": "code",
   "execution_count": 74,
   "metadata": {},
   "outputs": [],
   "source": [
    "#pull in lat long and humidity, cloud, wind speed, temp\n",
    "\n",
    "lat_data = [data.get(\"coord\").get(\"lat\") for data in search_data]\n",
    "lng_data = [data.get(\"coord\").get(\"lon\") for data in search_data]\n",
    "temp_data = [data.get(\"main\").get(\"temp\") for data in search_data]\n",
    "humid_data = [data.get(\"main\").get(\"humidity\") for data in search_data]\n",
    "cloud_data =[data.get(\"clouds\").get(\"all\") for data in search_data]\n",
    "wind_data = [data.get(\"wind\").get(\"speed\") for data in search_data]"
   ]
  },
  {
   "cell_type": "code",
   "execution_count": 75,
   "metadata": {},
   "outputs": [],
   "source": [
    "#dataFrame with items pulled\n",
    "weather_data = pd.DataFrame({\"cityName\":cityList,\n",
    "                            \"country\":countryList,\n",
    "                            \"lat\":lat_data,\n",
    "                            \"lng\":lng_data,\n",
    "                            \"temp\":temp_data,\n",
    "                            \"humidity\":humid_data,\n",
    "                            \"cloudiness\":cloud_data,\n",
    "                            \"winds\":wind_data})"
   ]
  },
  {
   "cell_type": "code",
   "execution_count": 76,
   "metadata": {},
   "outputs": [
    {
     "data": {
      "text/html": [
       "<div>\n",
       "<style scoped>\n",
       "    .dataframe tbody tr th:only-of-type {\n",
       "        vertical-align: middle;\n",
       "    }\n",
       "\n",
       "    .dataframe tbody tr th {\n",
       "        vertical-align: top;\n",
       "    }\n",
       "\n",
       "    .dataframe thead th {\n",
       "        text-align: right;\n",
       "    }\n",
       "</style>\n",
       "<table border=\"1\" class=\"dataframe\">\n",
       "  <thead>\n",
       "    <tr style=\"text-align: right;\">\n",
       "      <th></th>\n",
       "      <th>cityName</th>\n",
       "      <th>country</th>\n",
       "      <th>lat</th>\n",
       "      <th>lng</th>\n",
       "      <th>temp</th>\n",
       "      <th>humidity</th>\n",
       "      <th>cloudiness</th>\n",
       "      <th>winds</th>\n",
       "    </tr>\n",
       "  </thead>\n",
       "  <tbody>\n",
       "    <tr>\n",
       "      <th>0</th>\n",
       "      <td>atuona</td>\n",
       "      <td>pf</td>\n",
       "      <td>-9.80</td>\n",
       "      <td>-139.03</td>\n",
       "      <td>80.59</td>\n",
       "      <td>100</td>\n",
       "      <td>0</td>\n",
       "      <td>17.72</td>\n",
       "    </tr>\n",
       "    <tr>\n",
       "      <th>1</th>\n",
       "      <td>ushuaia</td>\n",
       "      <td>ar</td>\n",
       "      <td>-54.81</td>\n",
       "      <td>-68.31</td>\n",
       "      <td>28.40</td>\n",
       "      <td>86</td>\n",
       "      <td>75</td>\n",
       "      <td>5.82</td>\n",
       "    </tr>\n",
       "    <tr>\n",
       "      <th>2</th>\n",
       "      <td>butaritari</td>\n",
       "      <td>ki</td>\n",
       "      <td>3.07</td>\n",
       "      <td>172.79</td>\n",
       "      <td>84.46</td>\n",
       "      <td>100</td>\n",
       "      <td>44</td>\n",
       "      <td>3.51</td>\n",
       "    </tr>\n",
       "    <tr>\n",
       "      <th>3</th>\n",
       "      <td>ribeira grande</td>\n",
       "      <td>pt</td>\n",
       "      <td>38.52</td>\n",
       "      <td>-28.70</td>\n",
       "      <td>70.69</td>\n",
       "      <td>100</td>\n",
       "      <td>92</td>\n",
       "      <td>4.97</td>\n",
       "    </tr>\n",
       "    <tr>\n",
       "      <th>4</th>\n",
       "      <td>amalapuram</td>\n",
       "      <td>in</td>\n",
       "      <td>16.58</td>\n",
       "      <td>82.00</td>\n",
       "      <td>82.39</td>\n",
       "      <td>85</td>\n",
       "      <td>56</td>\n",
       "      <td>13.13</td>\n",
       "    </tr>\n",
       "  </tbody>\n",
       "</table>\n",
       "</div>"
      ],
      "text/plain": [
       "         cityName country    lat     lng   temp  humidity  cloudiness  winds\n",
       "0          atuona      pf  -9.80 -139.03  80.59       100           0  17.72\n",
       "1         ushuaia      ar -54.81  -68.31  28.40        86          75   5.82\n",
       "2      butaritari      ki   3.07  172.79  84.46       100          44   3.51\n",
       "3  ribeira grande      pt  38.52  -28.70  70.69       100          92   4.97\n",
       "4      amalapuram      in  16.58   82.00  82.39        85          56  13.13"
      ]
     },
     "execution_count": 76,
     "metadata": {},
     "output_type": "execute_result"
    }
   ],
   "source": [
    "weather_data = weather_data[[\"cityName\",\"country\",\"lat\",\"lng\",\"temp\",\"humidity\",\"cloudiness\",\"winds\"]]\n",
    "weather_data.head()"
   ]
  },
  {
   "cell_type": "code",
   "execution_count": null,
   "metadata": {},
   "outputs": [],
   "source": [
    "# Save weather data to csv file\n",
    "weather_data.to_csv(\"weatherdata.csv\", encoding=\"utf-8\", index=False)"
   ]
  },
  {
   "cell_type": "code",
   "execution_count": 77,
   "metadata": {},
   "outputs": [
    {
     "data": {
      "image/png": "[encoded data removed]",
      "text/plain": [
       "<matplotlib.figure.Figure at 0x13d292ef7b8>"
      ]
     },
     "metadata": {},
     "output_type": "display_data"
    }
   ],
   "source": [
    "plt.scatter(weather_data[\"lat\"], weather_data[\"temp\"], marker=\"o\")\n",
    "\n",
    "# Add chart labels\n",
    "plt.title(\"City Latitude vs Max Temperature\")\n",
    "plt.ylabel(\"Temperature (F) \")\n",
    "plt.xlabel(\"Latitude\")\n",
    "plt.grid(True)\n",
    "plt.xlim(-90,90)\n",
    "\n",
    "# Save the figure\n",
    "plt.savefig(\"Lat_vs_MaxTemp.png\")\n",
    "# Show plot\n",
    "plt.show()\n"
   ]
  },
  {
   "cell_type": "code",
   "execution_count": 78,
   "metadata": {},
   "outputs": [
    {
     "data": {
      "image/png": "[encoded data removed]",
      "text/plain": [
       "<matplotlib.figure.Figure at 0x13d2953f908>"
      ]
     },
     "metadata": {},
     "output_type": "display_data"
    }
   ],
   "source": [
    "# Latitude vs Humidity\n",
    "plt.scatter(weather_data[\"lat\"], weather_data[\"humidity\"], marker=\"o\")\n",
    "\n",
    "# Add chart labels\n",
    "plt.title(\"Humidity vs Latitude\")\n",
    "plt.ylabel(\"Humidity\")\n",
    "plt.xlabel(\"Latitude\")\n",
    "plt.grid(True)\n",
    "plt.xlim(-90,90)\n",
    "\n",
    "# Save the figure\n",
    "plt.savefig(\"Lat_vs_Humidity.png\")\n",
    "\n",
    "# Show plot\n",
    "plt.show()"
   ]
  },
  {
   "cell_type": "code",
   "execution_count": 79,
   "metadata": {},
   "outputs": [
    {
     "data": {
      "image/png": "[encoded data removed]",
      "text/plain": [
       "<matplotlib.figure.Figure at 0x13d295b4ef0>"
      ]
     },
     "metadata": {},
     "output_type": "display_data"
    }
   ],
   "source": [
    "\n",
    "# Latitude vs Cloudiness\n",
    "plt.scatter(weather_data[\"lat\"], weather_data[\"cloudiness\"], marker=\"o\")\n",
    "\n",
    "# Add chart labels\n",
    "plt.title(\"Cloudiness % vs. Latitude\")\n",
    "plt.ylabel(\"Cloudiness\")\n",
    "plt.xlabel(\"Latitude\")\n",
    "plt.grid(True)\n",
    "plt.xlim(-90,90)\n",
    "\n",
    "# Save the figure\n",
    "plt.savefig(\"Lat_vs_Cloudiness.png\")\n",
    "\n",
    "# Show plot\n",
    "plt.show()"
   ]
  },
  {
   "cell_type": "code",
   "execution_count": 80,
   "metadata": {},
   "outputs": [
    {
     "data": {
      "image/png": "[encoded data removed]",
      "text/plain": [
       "<matplotlib.figure.Figure at 0x13d295dc978>"
      ]
     },
     "metadata": {},
     "output_type": "display_data"
    }
   ],
   "source": [
    "# Latitude vs Wind Speed\n",
    "plt.scatter(weather_data[\"lat\"], weather_data[\"winds\"], marker=\"o\")\n",
    "\n",
    "# Add chart labels\n",
    "plt.title(\"Wind Speed (mph) vs. Latitude\")\n",
    "plt.ylabel(\"Wind Speed (mph)\")\n",
    "plt.xlabel(\"Latitude\")\n",
    "plt.grid(True)\n",
    "plt.xlim(-90,90)\n",
    "\n",
    "# Save the figure\n",
    "plt.savefig(\"Lat_vs_WindSpeed.png\")\n",
    "\n",
    "# Show plot\n",
    "plt.show()"
   ]
  },
  {
   "cell_type": "code",
   "execution_count": null,
   "metadata": {},
   "outputs": [],
   "source": []
  }
 ],
 "metadata": {
  "kernelspec": {
   "display_name": "Python 3",
   "language": "python",
   "name": "python3"
  },
  "language_info": {
   "codemirror_mode": {
    "name": "ipython",
    "version": 3
   },
   "file_extension": ".py",
   "mimetype": "text/x-python",
   "name": "python",
   "nbconvert_exporter": "python",
   "pygments_lexer": "ipython3",
   "version": "3.6.4"
  }
 },
 "nbformat": 4,
 "nbformat_minor": 2
}
